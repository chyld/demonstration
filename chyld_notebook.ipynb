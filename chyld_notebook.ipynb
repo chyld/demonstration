{
 "cells": [
  {
   "cell_type": "markdown",
   "id": "4dd68a39-27e9-45c9-b773-ccdf709c3ff8",
   "metadata": {},
   "source": [
    "# this is chyld's notebook ... do not change"
   ]
  },
  {
   "cell_type": "code",
   "execution_count": 1,
   "id": "cc3d1687-043e-4aed-8d72-f9b54e9e58a8",
   "metadata": {},
   "outputs": [],
   "source": [
    "from functions import add, subtract, mul"
   ]
  },
  {
   "cell_type": "code",
   "execution_count": 3,
   "id": "91924349-9112-49f9-833c-6de95ab28d48",
   "metadata": {},
   "outputs": [
    {
     "data": {
      "text/plain": [
       "(7, -1, 12)"
      ]
     },
     "execution_count": 3,
     "metadata": {},
     "output_type": "execute_result"
    }
   ],
   "source": [
    "add(3,4), subtract(3, 4), mul(3,4)"
   ]
  },
  {
   "cell_type": "code",
   "execution_count": null,
   "id": "f4651cf5-d4b7-4a06-8216-4d621b080d12",
   "metadata": {},
   "outputs": [],
   "source": []
  }
 ],
 "metadata": {
  "kernelspec": {
   "display_name": "Python 3 (ipykernel)",
   "language": "python",
   "name": "python3"
  },
  "language_info": {
   "codemirror_mode": {
    "name": "ipython",
    "version": 3
   },
   "file_extension": ".py",
   "mimetype": "text/x-python",
   "name": "python",
   "nbconvert_exporter": "python",
   "pygments_lexer": "ipython3",
   "version": "3.10.0"
  }
 },
 "nbformat": 4,
 "nbformat_minor": 5
}
