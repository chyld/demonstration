{
 "cells": [
  {
   "cell_type": "code",
   "execution_count": 1,
   "id": "d8691fe3-aa39-405b-9cda-5aadf0a6c005",
   "metadata": {},
   "outputs": [],
   "source": [
    "from functions import add,subtract"
   ]
  },
  {
   "cell_type": "code",
   "execution_count": 2,
   "id": "a038a67b-30b3-426a-b09b-be2f4cf85e64",
   "metadata": {},
   "outputs": [
    {
     "data": {
      "text/plain": [
       "12"
      ]
     },
     "execution_count": 2,
     "metadata": {},
     "output_type": "execute_result"
    }
   ],
   "source": [
    "add(5,7)"
   ]
  },
  {
   "cell_type": "code",
   "execution_count": 3,
   "id": "179441ad-d114-470a-8382-699173314a5b",
   "metadata": {},
   "outputs": [
    {
     "data": {
      "text/plain": [
       "5"
      ]
     },
     "execution_count": 3,
     "metadata": {},
     "output_type": "execute_result"
    }
   ],
   "source": [
    "subtract(9,4)"
   ]
  },
  {
   "cell_type": "code",
   "execution_count": null,
   "id": "3e89e088-2967-40c7-9f04-d03c2e22d47c",
   "metadata": {},
   "outputs": [],
   "source": []
  }
 ],
 "metadata": {
  "kernelspec": {
   "display_name": "Python 3",
   "language": "python",
   "name": "python3"
  },
  "language_info": {
   "codemirror_mode": {
    "name": "ipython",
    "version": 3
   },
   "file_extension": ".py",
   "mimetype": "text/x-python",
   "name": "python",
   "nbconvert_exporter": "python",
   "pygments_lexer": "ipython3",
   "version": "3.8.8"
  }
 },
 "nbformat": 4,
 "nbformat_minor": 5
}
